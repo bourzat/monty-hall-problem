{
 "cells": [
  {
   "cell_type": "markdown",
   "metadata": {},
   "source": [
    "# The Monty Hall Problem\n",
    "\n",
    "## Introduction\n",
    "\n",
    "The Monty Hall problem is a famous little puzzle from a game show. It goes like this: you are presented with 3 doors. Behind two are goats and behind the third is a car. You are asked to select a door; if you select the door with the car, you win! After selecting, the host then opens one of the remaining two doors, revealing a goat. The host then asks if you would like to switch doors or stick with your original choice. What would you do? Does it matter?\n",
    "\n",
    "<img src=\"https://raw.githubusercontent.com/learn-co-curriculum/dsc-monty-hall-problem-lab/master/images/Image_58_MontyHall.png\" alt=\"doors 1, 2, and 3 with two goats and a car\">\n",
    "\n",
    "## Objectives\n",
    "\n",
    "In this lab you will:\n",
    "\n",
    "- Use Bayes' theorem along with a simulation to solve the Monty Hall problem"
   ]
  },
  {
   "cell_type": "markdown",
   "metadata": {},
   "source": [
    "## Run a simulation\n",
    "\n",
    "This is not a traditional application of Bayes' theorem, so trying to formulate the problem as such is tricky at best. That said, the scenario does capture the motivating conception behind Bayesian statistics: updating our beliefs in the face of additional evidence. With this, you'll employ another frequently used tool Bayesians frequently employ, running simulations. To do this, generate a random integer between one and three to represent the door hiding the car. Then, generate a second integer between one and three representing the player's selection. Then, of those the contestant did not choose, select a door concealing a goat to reveal. Record the results of the simulated game if they changed versus if they did not. Repeat this process a thousand (or more) times. Finally, plot the results of your simulation as a line graph. The x-axis should be the number of simulations, and the y-axis should be the probability of winning. (There should be two lines on the graph, one for switching doors, and the other for keeping the original selection.)"
   ]
  },
  {
   "cell_type": "code",
   "execution_count": 2,
   "metadata": {},
   "outputs": [
    {
     "ename": "IndexError",
     "evalue": "list index out of range",
     "output_type": "error",
     "traceback": [
      "\u001b[0;31m---------------------------------------------------------------------------\u001b[0m",
      "\u001b[0;31mIndexError\u001b[0m                                Traceback (most recent call last)",
      "Cell \u001b[0;32mIn[2], line 36\u001b[0m\n\u001b[1;32m     34\u001b[0m \u001b[38;5;66;03m# Determine the remaining unchosen door\u001b[39;00m\n\u001b[1;32m     35\u001b[0m remaining_choices\u001b[38;5;241m.\u001b[39mremove(door_revealed)\n\u001b[0;32m---> 36\u001b[0m remaining_door \u001b[38;5;241m=\u001b[39m \u001b[43mremaining_choices\u001b[49m\u001b[43m[\u001b[49m\u001b[38;5;241;43m0\u001b[39;49m\u001b[43m]\u001b[49m\n\u001b[1;32m     38\u001b[0m \u001b[38;5;66;03m# Check if the player wins by staying\u001b[39;00m\n\u001b[1;32m     39\u001b[0m \u001b[38;5;28;01mif\u001b[39;00m player_choice \u001b[38;5;241m==\u001b[39m car_position:\n",
      "\u001b[0;31mIndexError\u001b[0m: list index out of range"
     ]
    }
   ],
   "source": [
    "# Your code here\n",
    "import random\n",
    "import matplotlib.pyplot as plt\n",
    "\n",
    "# Number of simulations\n",
    "num_simulations = 1000\n",
    "\n",
    "# Initialize counters for wins when switching and when not switching\n",
    "switch_wins = 0\n",
    "stay_wins = 0\n",
    "\n",
    "# Lists to store probabilities over simulations\n",
    "switch_probs = []\n",
    "stay_probs = []\n",
    "\n",
    "# Simulate the Monty Hall problem\n",
    "for i in range(1, num_simulations + 1):\n",
    "    # Randomly assign the car behind one of the doors\n",
    "    car_position = random.randint(1, 3)\n",
    "    \n",
    "    # Player makes a random choice of one of the doors\n",
    "    player_choice = random.randint(1, 3)\n",
    "    \n",
    "    # Host opens a door with a goat that is not chosen by the player\n",
    "    remaining_choices = [1, 2, 3]\n",
    "    remaining_choices.remove(player_choice)\n",
    "    \n",
    "    if car_position in remaining_choices:\n",
    "        remaining_choices.remove(car_position)\n",
    "    \n",
    "    # Host's choice to reveal\n",
    "    door_revealed = random.choice(remaining_choices)\n",
    "    \n",
    "    # Determine the remaining unchosen door\n",
    "    remaining_choices.remove(door_revealed)\n",
    "    remaining_door = remaining_choices[0]\n",
    "    \n",
    "    # Check if the player wins by staying\n",
    "    if player_choice == car_position:\n",
    "        stay_wins += 1\n",
    "    \n",
    "    # Check if the player wins by switching\n",
    "    if remaining_door == car_position:\n",
    "        switch_wins += 1\n",
    "    \n",
    "    # Calculate probabilities after each simulation\n",
    "    switch_probs.append(switch_wins / i)\n",
    "    stay_probs.append(stay_wins / i)\n",
    "\n",
    "# Plotting the results\n",
    "plt.figure(figsize=(10, 6))\n",
    "plt.plot(range(1, num_simulations + 1), switch_probs, label='Switching Doors', color='blue')\n",
    "plt.plot(range(1, num_simulations + 1), stay_probs, label='Staying with Original Choice', color='green')\n",
    "plt.xlabel('Number of Simulations')\n",
    "plt.ylabel('Probability of Winning')\n",
    "plt.title('Monty Hall Problem Simulation')\n",
    "plt.legend()\n",
    "plt.grid(True)\n",
    "plt.show()"
   ]
  },
  {
   "cell_type": "markdown",
   "metadata": {},
   "source": [
    "## Summary\n",
    "\n",
    "In this lab, you further investigated the idea of Bayes' theorem and Bayesian statistics in general through the Monty Hall problem. Hopefully, this was an entertaining little experience! "
   ]
  }
 ],
 "metadata": {
  "kernelspec": {
   "display_name": "Python (learn-env)",
   "language": "python",
   "name": "learn-env"
  },
  "language_info": {
   "codemirror_mode": {
    "name": "ipython",
    "version": 3
   },
   "file_extension": ".py",
   "mimetype": "text/x-python",
   "name": "python",
   "nbconvert_exporter": "python",
   "pygments_lexer": "ipython3",
   "version": "3.9.19"
  },
  "toc": {
   "base_numbering": 1,
   "nav_menu": {},
   "number_sections": true,
   "sideBar": true,
   "skip_h1_title": false,
   "title_cell": "Table of Contents",
   "title_sidebar": "Contents",
   "toc_cell": false,
   "toc_position": {},
   "toc_section_display": true,
   "toc_window_display": false
  }
 },
 "nbformat": 4,
 "nbformat_minor": 4
}
